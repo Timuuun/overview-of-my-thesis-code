{
  "nbformat": 4,
  "nbformat_minor": 0,
  "metadata": {
    "colab": {
      "provenance": [],
      "authorship_tag": "ABX9TyM5DiCHHwdIUt7aQcYE9JQT"
    },
    "kernelspec": {
      "name": "python3",
      "display_name": "Python 3"
    },
    "language_info": {
      "name": "python"
    }
  },
  "cells": [
    {
      "cell_type": "code",
      "source": [
        "pip install pulp"
      ],
      "metadata": {
        "colab": {
          "base_uri": "https://localhost:8080/"
        },
        "id": "Ae9eRPsx9syi",
        "outputId": "16f6ce31-0cd9-4755-8372-12e030df1d15"
      },
      "execution_count": 1,
      "outputs": [
        {
          "output_type": "stream",
          "name": "stdout",
          "text": [
            "Collecting pulp\n",
            "  Downloading PuLP-2.9.0-py3-none-any.whl (17.7 MB)\n",
            "\u001b[2K     \u001b[90m━━━━━━━━━━━━━━━━━━━━━━━━━━━━━━━━━━━━━━━━\u001b[0m \u001b[32m17.7/17.7 MB\u001b[0m \u001b[31m13.5 MB/s\u001b[0m eta \u001b[36m0:00:00\u001b[0m\n",
            "\u001b[?25hInstalling collected packages: pulp\n",
            "Successfully installed pulp-2.9.0\n"
          ]
        }
      ]
    },
    {
      "cell_type": "code",
      "execution_count": 2,
      "metadata": {
        "id": "NRwPxQUZ9YyZ"
      },
      "outputs": [],
      "source": [
        "from pulp import *\n",
        "import math\n",
        "import copy\n",
        "import random"
      ]
    },
    {
      "cell_type": "code",
      "source": [
        "def GenerateGrid(n):\n",
        "  global grid\n",
        "  grid = [[0] * n**2 for i in range(n**2)]\n",
        "\n",
        "  size=len(grid)\n",
        "  bsize=int(math.sqrt(len(grid)))\n",
        "  index_list=[]\n",
        "  for i in range(1,size+1):\n",
        "      list = []\n",
        "      for j in range(1,size+1):\n",
        "          index = (i,j)\n",
        "          list.append(index)\n",
        "      index_list.append(list)\n",
        "  box_list=[]\n",
        "  for i in range(0,bsize):\n",
        "      for j in range(0,bsize):\n",
        "          box = [index_list[bsize*i+p][bsize*j+q] for p in range(0,bsize) for q in range(0,bsize)]\n",
        "          box_list.append(box)\n",
        "\n",
        "  lp = LpProblem(\"Sudoku LP\",LpMinimize)\n",
        "  rows = range(1,size+1)\n",
        "  cols = range(1,size+1)\n",
        "  nums = range(1,size+1)\n",
        "\n",
        "  x_ijk = LpVariable.dicts(\"x\",(rows,cols,nums),0,1,LpInteger)\n",
        "  obj= lpSum(x_ijk[i][j][k] for i in rows for j in cols for k in nums)\n",
        "  lp += obj, \"Objective Function\"\n",
        "\n",
        "  for j in cols:\n",
        "      for k in nums:\n",
        "          lp += lpSum([x_ijk[i][j][k] for i in rows]) == 1,\"\"\n",
        "  for i in rows:\n",
        "      for k in nums:\n",
        "          lp += lpSum([x_ijk[i][j][k] for j in cols]) == 1,\"\"\n",
        "  for i in rows:\n",
        "      for j in cols:\n",
        "          lp += lpSum([x_ijk[i][j][k] for k in nums]) == 1,\"\"\n",
        "  for k in nums:\n",
        "      for box in box_list:\n",
        "          lp += lpSum([x_ijk[i][j][k] for (i,j) in box]) == 1,\"\"\n",
        "  for i in range(len(grid)):\n",
        "      for j in range(len(grid)):\n",
        "          if grid[i][j]==0:\n",
        "            continue\n",
        "          else:\n",
        "            lp += x_ijk[i+1][j+1][grid[i][j]] == 1,\"\"\n",
        "\n",
        "  for a in range(1,random.randint(1, n)+1):\n",
        "    numbers = [*range(1,size+1)]\n",
        "    random.shuffle(numbers)\n",
        "    lp.solve()\n",
        "    for i in range(len(grid)):\n",
        "      for j in range(len(grid)):\n",
        "        for k in range(len(grid)):\n",
        "          if x_ijk[i+1][j+1][k+1].varValue==1:\n",
        "            grid[i][j] = numbers[k]\n",
        "          else:\n",
        "            continue\n",
        "    lp += lpSum(x_ijk[i][j][k] for k in nums for i in rows for j in cols if value(x_ijk[i][j][k]) == 1) <= (len(grid)**2-1)\n",
        "\n",
        "  print(\"Solusi: \")\n",
        "  al = \"╔\"; am = \"╦\"; ar = \"╗\"; g = \"═\"\n",
        "  ml = \"╠\"; mm = \"╬\"; mr = \"╣\"\n",
        "  bl = \"╚\"; bm = \"╩\"; br = \"╝\"\n",
        "  pgaris = (bsize*2+1)*g\n",
        "  for i in rows:\n",
        "    line=\"\"\n",
        "    if i==1: print(al+(bsize-1)*(pgaris+am)+(pgaris+ar))\n",
        "    elif i in range(1+bsize,size,bsize): print(ml+(bsize-1)*(pgaris+mm)+(pgaris+mr))\n",
        "    for j in cols:\n",
        "      p = grid[i-1][j-1]\n",
        "      if j in range(1,size,bsize): line+=\"║ \"\n",
        "      line += str(p)+\" \"\n",
        "      if j == size: line+=\"║ \"\n",
        "    print(line)\n",
        "  print(bl+(bsize-1)*(pgaris+bm)+(pgaris+br))\n"
      ],
      "metadata": {
        "id": "5T-6YHTW_92J"
      },
      "execution_count": 3,
      "outputs": []
    },
    {
      "cell_type": "code",
      "source": [
        "GenerateGrid(2)"
      ],
      "metadata": {
        "colab": {
          "base_uri": "https://localhost:8080/"
        },
        "id": "SU82voZWhLPK",
        "outputId": "4c50f228-a651-4fec-a982-5d9c2c8cd835"
      },
      "execution_count": 4,
      "outputs": [
        {
          "output_type": "stream",
          "name": "stdout",
          "text": [
            "Solusi: \n",
            "╔═════╦═════╗\n",
            "║ 2 1 ║ 3 4 ║ \n",
            "║ 4 3 ║ 2 1 ║ \n",
            "╠═════╬═════╣\n",
            "║ 3 4 ║ 1 2 ║ \n",
            "║ 1 2 ║ 4 3 ║ \n",
            "╚═════╩═════╝\n"
          ]
        },
        {
          "output_type": "stream",
          "name": "stderr",
          "text": [
            "/usr/local/lib/python3.10/dist-packages/pulp/pulp.py:1298: UserWarning: Spaces are not permitted in the name. Converted to '_'\n",
            "  warnings.warn(\"Spaces are not permitted in the name. Converted to '_'\")\n"
          ]
        }
      ]
    },
    {
      "cell_type": "code",
      "source": [
        "def UniqueTest(grid):\n",
        "    global feasible_solution_count\n",
        "    size=len(grid)\n",
        "    bsize=int(math.sqrt(len(grid)))\n",
        "    index_list=[]\n",
        "    for i in range(1,size+1):\n",
        "        list = []\n",
        "        for j in range(1,size+1):\n",
        "            index = (i,j)\n",
        "            list.append(index)\n",
        "        index_list.append(list)\n",
        "    box_list=[]\n",
        "    for i in range(0,bsize):\n",
        "        for j in range(0,bsize):\n",
        "            box = [index_list[bsize*i+p][bsize*j+q] for p in range(0,bsize) for q in range(0,bsize)]\n",
        "            box_list.append(box)\n",
        "\n",
        "    lp = LpProblem(\"Sudoku LP\",LpMinimize)\n",
        "    rows = range(1,size+1)\n",
        "    cols = range(1,size+1)\n",
        "    nums = range(1,size+1)\n",
        "\n",
        "    x_ijk = LpVariable.dicts(\"x\",(rows,cols,nums),0,1,LpInteger)\n",
        "    obj=lpSum(x_ijk[i][j][k] for i in rows for j in cols for k in nums)\n",
        "    lp += obj, \"Objective Function\"\n",
        "\n",
        "    for j in cols:\n",
        "        for k in nums:\n",
        "            lp += lpSum([x_ijk[i][j][k] for i in rows]) == 1,\"\"\n",
        "    for i in rows:\n",
        "        for k in nums:\n",
        "            lp += lpSum([x_ijk[i][j][k] for j in cols]) == 1,\"\"\n",
        "    for i in rows:\n",
        "        for j in cols:\n",
        "            lp += lpSum([x_ijk[i][j][k] for k in nums]) == 1,\"\"\n",
        "    for j in nums:\n",
        "        for box in box_list:\n",
        "            lp += lpSum([x_ijk[i][j][k] for (i,j) in box]) == 1,\"\"\n",
        "    for i in range(len(grid)):\n",
        "        for j in range(len(grid)):\n",
        "            if grid[i][j]==0:\n",
        "              continue\n",
        "            else:\n",
        "              lp += x_ijk[i+1][j+1][grid[i][j]] == 1,\"\"\n",
        "    feasible_solution_count = 0\n",
        "    while True:\n",
        "      lp.solve()\n",
        "      if str(LpStatus[lp.status]) == \"Infeasible\":\n",
        "        break\n",
        "      else:\n",
        "        lp += lpSum(x_ijk[i][j][k] for k in nums for i in rows for j in cols if value(x_ijk[i][j][k]) == 1) <= (len(grid)**2-1)\n",
        "        feasible_solution_count += 1\n",
        "        if feasible_solution_count == 3:\n",
        "          break"
      ],
      "metadata": {
        "id": "67hiOkdlKtSr"
      },
      "execution_count": 5,
      "outputs": []
    },
    {
      "cell_type": "code",
      "source": [
        "def GeneratePuzzle(n):\n",
        "  global newgrid\n",
        "  global step_list\n",
        "  global tempgrid1\n",
        "\n",
        "  GenerateGrid(n)\n",
        "\n",
        "  size=len(grid)\n",
        "  bsize=int(math.sqrt(len(grid)))\n",
        "  rows = range(1,size+1)\n",
        "  cols = range(1,size+1)\n",
        "  nums = range(1,size+1)\n",
        "\n",
        "  newgrid = copy.deepcopy(grid)\n",
        "  listofindex = []\n",
        "  for i in range(len(grid)):\n",
        "    for j in range(len(grid)):\n",
        "      index = (i,j)\n",
        "      listofindex.append(index)\n",
        "  random.shuffle(listofindex)\n",
        "  x = 0\n",
        "  step_list = []\n",
        "\n",
        "  while x != len(listofindex):\n",
        "    i,j = listofindex[x]\n",
        "    tempgrid = copy.deepcopy(newgrid)\n",
        "    tempgrid1 = copy.deepcopy(newgrid)\n",
        "    tempgrid1[i][j] = 0\n",
        "    UniqueTest(tempgrid1)\n",
        "    x += 1\n",
        "    if feasible_solution_count==1:\n",
        "      step_list.append(tempgrid1)\n",
        "      newgrid = copy.deepcopy(tempgrid1)\n",
        "    else:\n",
        "      newgrid = copy.deepcopy(tempgrid)\n",
        "      continue\n",
        "\n",
        "  print(\"Masalah: \")\n",
        "  al = \"╔\"; am = \"╦\"; ar = \"╗\"; g = \"═\"\n",
        "  ml = \"╠\"; mm = \"╬\"; mr = \"╣\"\n",
        "  bl = \"╚\"; bm = \"╩\"; br = \"╝\"\n",
        "  pgaris = (bsize*2+1)*g\n",
        "  for i in rows:\n",
        "    line=\"\"\n",
        "    if i==1: print(al+(bsize-1)*(pgaris+am)+(pgaris+ar))\n",
        "    elif i in range(1+bsize,size,bsize): print(ml+(bsize-1)*(pgaris+mm)+(pgaris+mr))\n",
        "    for j in cols:\n",
        "      p = newgrid[i-1][j-1]\n",
        "      if j in range(1,size,bsize): line+=\"║ \"\n",
        "      line += str(p)+\" \"\n",
        "      if j == size: line+=\"║ \"\n",
        "    print(line)\n",
        "  print(bl+(bsize-1)*(pgaris+bm)+(pgaris+br))"
      ],
      "metadata": {
        "id": "Y-lrUViZKvIr"
      },
      "execution_count": 6,
      "outputs": []
    },
    {
      "cell_type": "code",
      "source": [
        "print(GeneratePuzzle(2))"
      ],
      "metadata": {
        "colab": {
          "base_uri": "https://localhost:8080/"
        },
        "id": "gD-QUpnNlNPe",
        "outputId": "b648f844-dd54-4897-f8cf-a295c779a68b"
      },
      "execution_count": 7,
      "outputs": [
        {
          "output_type": "stream",
          "name": "stdout",
          "text": [
            "Solusi: \n",
            "╔═════╦═════╗\n",
            "║ 4 3 ║ 1 2 ║ \n",
            "║ 2 1 ║ 4 3 ║ \n",
            "╠═════╬═════╣\n",
            "║ 1 2 ║ 3 4 ║ \n",
            "║ 3 4 ║ 2 1 ║ \n",
            "╚═════╩═════╝\n",
            "Masalah: \n",
            "╔═════╦═════╗\n",
            "║ 4 0 ║ 0 2 ║ \n",
            "║ 2 0 ║ 0 0 ║ \n",
            "╠═════╬═════╣\n",
            "║ 0 0 ║ 3 0 ║ \n",
            "║ 0 0 ║ 0 0 ║ \n",
            "╚═════╩═════╝\n",
            "None\n"
          ]
        }
      ]
    },
    {
      "cell_type": "code",
      "source": [
        "print(GeneratePuzzle(3))"
      ],
      "metadata": {
        "colab": {
          "base_uri": "https://localhost:8080/"
        },
        "id": "BbIWVsvlK93x",
        "outputId": "4b7870a2-75c5-426e-e729-cdb163df1bf2"
      },
      "execution_count": 8,
      "outputs": [
        {
          "output_type": "stream",
          "name": "stdout",
          "text": [
            "Solusi: \n",
            "╔═══════╦═══════╦═══════╗\n",
            "║ 4 6 3 ║ 7 5 1 ║ 2 9 8 ║ \n",
            "║ 7 1 8 ║ 3 9 2 ║ 6 5 4 ║ \n",
            "║ 5 9 2 ║ 8 6 4 ║ 7 3 1 ║ \n",
            "╠═══════╬═══════╬═══════╣\n",
            "║ 9 8 7 ║ 4 1 6 ║ 3 2 5 ║ \n",
            "║ 6 2 4 ║ 5 7 3 ║ 1 8 9 ║ \n",
            "║ 1 3 5 ║ 2 8 9 ║ 4 6 7 ║ \n",
            "╠═══════╬═══════╬═══════╣\n",
            "║ 3 5 1 ║ 6 4 8 ║ 9 7 2 ║ \n",
            "║ 2 7 9 ║ 1 3 5 ║ 8 4 6 ║ \n",
            "║ 8 4 6 ║ 9 2 7 ║ 5 1 3 ║ \n",
            "╚═══════╩═══════╩═══════╝\n",
            "Masalah: \n",
            "╔═══════╦═══════╦═══════╗\n",
            "║ 0 6 3 ║ 7 0 0 ║ 2 9 0 ║ \n",
            "║ 0 0 0 ║ 0 0 2 ║ 0 5 0 ║ \n",
            "║ 5 0 0 ║ 0 0 4 ║ 0 0 0 ║ \n",
            "╠═══════╬═══════╬═══════╣\n",
            "║ 9 0 0 ║ 0 1 0 ║ 0 2 5 ║ \n",
            "║ 6 2 0 ║ 0 0 0 ║ 0 0 0 ║ \n",
            "║ 0 0 5 ║ 0 8 0 ║ 0 0 7 ║ \n",
            "╠═══════╬═══════╬═══════╣\n",
            "║ 0 0 0 ║ 0 4 8 ║ 9 7 2 ║ \n",
            "║ 2 0 9 ║ 0 3 0 ║ 0 0 6 ║ \n",
            "║ 0 4 6 ║ 0 0 7 ║ 0 1 0 ║ \n",
            "╚═══════╩═══════╩═══════╝\n",
            "None\n"
          ]
        }
      ]
    },
    {
      "cell_type": "code",
      "source": [
        "print(GeneratePuzzle(4))"
      ],
      "metadata": {
        "colab": {
          "base_uri": "https://localhost:8080/"
        },
        "id": "gL9I67eulRyF",
        "outputId": "80a7bd39-0b62-46d2-e576-f5805a423410"
      },
      "execution_count": 9,
      "outputs": [
        {
          "output_type": "stream",
          "name": "stdout",
          "text": [
            "Solusi: \n",
            "╔═════════╦═════════╦═════════╦═════════╗\n",
            "║ 6 14 9 16 ║ 4 10 8 12 ║ 5 2 7 13 ║ 11 3 1 15 ║ \n",
            "║ 13 5 10 15 ║ 16 7 1 2 ║ 9 12 3 11 ║ 8 6 4 14 ║ \n",
            "║ 2 8 12 7 ║ 9 3 14 11 ║ 1 4 6 15 ║ 5 10 16 13 ║ \n",
            "║ 4 11 3 1 ║ 5 13 15 6 ║ 8 14 10 16 ║ 2 12 7 9 ║ \n",
            "╠═════════╬═════════╬═════════╬═════════╣\n",
            "║ 10 6 11 4 ║ 2 15 3 16 ║ 7 13 9 5 ║ 1 14 12 8 ║ \n",
            "║ 15 7 1 12 ║ 8 6 10 9 ║ 2 11 14 4 ║ 3 16 13 5 ║ \n",
            "║ 16 3 8 14 ║ 13 4 11 5 ║ 10 15 1 12 ║ 9 7 6 2 ║ \n",
            "║ 9 13 5 2 ║ 14 12 7 1 ║ 3 8 16 6 ║ 10 11 15 4 ║ \n",
            "╠═════════╬═════════╬═════════╬═════════╣\n",
            "║ 8 12 15 10 ║ 11 9 4 14 ║ 16 7 5 2 ║ 13 1 3 6 ║ \n",
            "║ 1 4 7 9 ║ 15 16 13 8 ║ 14 6 11 3 ║ 12 2 5 10 ║ \n",
            "║ 5 16 13 6 ║ 10 1 2 3 ║ 12 9 15 8 ║ 7 4 14 11 ║ \n",
            "║ 11 2 14 3 ║ 12 5 6 7 ║ 13 10 4 1 ║ 15 8 9 16 ║ \n",
            "╠═════════╬═════════╬═════════╬═════════╣\n",
            "║ 12 15 6 5 ║ 7 8 16 13 ║ 11 3 2 14 ║ 4 9 10 1 ║ \n",
            "║ 14 1 4 11 ║ 3 2 12 10 ║ 6 5 13 9 ║ 16 15 8 7 ║ \n",
            "║ 7 9 2 8 ║ 1 14 5 4 ║ 15 16 12 10 ║ 6 13 11 3 ║ \n",
            "║ 3 10 16 13 ║ 6 11 9 15 ║ 4 1 8 7 ║ 14 5 2 12 ║ \n",
            "╚═════════╩═════════╩═════════╩═════════╝\n",
            "Masalah: \n",
            "╔═════════╦═════════╦═════════╦═════════╗\n",
            "║ 0 14 0 0 ║ 0 0 8 12 ║ 5 2 0 13 ║ 11 3 0 0 ║ \n",
            "║ 0 0 10 15 ║ 16 7 1 0 ║ 9 12 3 0 ║ 8 0 0 0 ║ \n",
            "║ 0 8 12 0 ║ 9 0 0 0 ║ 1 4 6 15 ║ 5 0 16 0 ║ \n",
            "║ 0 0 0 1 ║ 0 13 0 6 ║ 8 14 0 0 ║ 0 12 7 9 ║ \n",
            "╠═════════╬═════════╬═════════╬═════════╣\n",
            "║ 10 0 11 4 ║ 2 15 0 16 ║ 7 0 0 0 ║ 1 14 0 0 ║ \n",
            "║ 0 0 0 12 ║ 0 6 10 0 ║ 0 11 0 4 ║ 0 16 13 0 ║ \n",
            "║ 0 3 8 14 ║ 0 0 0 0 ║ 10 15 1 12 ║ 0 7 6 2 ║ \n",
            "║ 9 0 0 2 ║ 14 0 0 1 ║ 0 0 0 6 ║ 0 0 15 0 ║ \n",
            "╠═════════╬═════════╬═════════╬═════════╣\n",
            "║ 8 12 0 0 ║ 0 9 4 0 ║ 16 0 5 0 ║ 13 0 0 6 ║ \n",
            "║ 0 4 0 0 ║ 15 0 0 0 ║ 14 0 0 3 ║ 12 0 0 10 ║ \n",
            "║ 0 16 13 0 ║ 10 0 2 0 ║ 12 9 0 8 ║ 0 4 14 11 ║ \n",
            "║ 11 2 0 3 ║ 0 0 0 0 ║ 0 0 0 0 ║ 15 8 0 0 ║ \n",
            "╠═════════╬═════════╬═════════╬═════════╣\n",
            "║ 0 0 6 0 ║ 7 0 16 0 ║ 0 3 2 14 ║ 0 0 10 0 ║ \n",
            "║ 0 0 4 11 ║ 3 0 12 0 ║ 6 0 0 9 ║ 16 15 0 7 ║ \n",
            "║ 7 0 0 8 ║ 0 14 5 4 ║ 0 0 0 0 ║ 0 13 0 3 ║ \n",
            "║ 0 10 0 13 ║ 6 11 0 15 ║ 4 1 0 0 ║ 0 5 2 12 ║ \n",
            "╚═════════╩═════════╩═════════╩═════════╝\n",
            "None\n"
          ]
        }
      ]
    }
  ]
}