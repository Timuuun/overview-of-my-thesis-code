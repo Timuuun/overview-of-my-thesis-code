{
  "nbformat": 4,
  "nbformat_minor": 0,
  "metadata": {
    "colab": {
      "provenance": [],
      "authorship_tag": "ABX9TyM5DiCHHwdIUt7aQcYE9JQT"
    },
    "kernelspec": {
      "name": "python3",
      "display_name": "Python 3"
    },
    "language_info": {
      "name": "python"
    }
  },
  "cells": [
    {
      "cell_type": "code",
      "source": [
        "pip install pulp"
      ],
      "metadata": {
        "colab": {
          "base_uri": "https://localhost:8080/"
        },
        "id": "Ae9eRPsx9syi",
        "outputId": "614fea95-481b-4515-fb09-299555b6c2f5"
      },
      "execution_count": null,
      "outputs": [
        {
          "output_type": "stream",
          "name": "stdout",
          "text": [
            "Collecting pulp\n",
            "  Downloading PuLP-2.8.0-py3-none-any.whl (17.7 MB)\n",
            "\u001b[2K     \u001b[90m━━━━━━━━━━━━━━━━━━━━━━━━━━━━━━━━━━━━━━━━\u001b[0m \u001b[32m17.7/17.7 MB\u001b[0m \u001b[31m32.0 MB/s\u001b[0m eta \u001b[36m0:00:00\u001b[0m\n",
            "\u001b[?25hInstalling collected packages: pulp\n",
            "Successfully installed pulp-2.8.0\n"
          ]
        }
      ]
    },
    {
      "cell_type": "code",
      "execution_count": null,
      "metadata": {
        "id": "NRwPxQUZ9YyZ"
      },
      "outputs": [],
      "source": [
        "from pulp import *\n",
        "import math\n",
        "import copy\n",
        "import random"
      ]
    },
    {
      "cell_type": "code",
      "source": [
        "def GenerateGrid(n):\n",
        "  global grid\n",
        "  grid = [[0] * n**2 for i in range(n**2)]\n",
        "\n",
        "  size=len(grid)\n",
        "  bsize=int(math.sqrt(len(grid)))\n",
        "  index_list=[]\n",
        "  for i in range(1,size+1):\n",
        "      list = []\n",
        "      for j in range(1,size+1):\n",
        "          index = (i,j)\n",
        "          list.append(index)\n",
        "      index_list.append(list)\n",
        "  box_list=[]\n",
        "  for i in range(0,bsize):\n",
        "      for j in range(0,bsize):\n",
        "          box = [index_list[bsize*i+p][bsize*j+q] for p in range(0,bsize) for q in range(0,bsize)]\n",
        "          box_list.append(box)\n",
        "\n",
        "  lp = LpProblem(\"Sudoku LP\",LpMinimize)\n",
        "  rows = range(1,size+1)\n",
        "  cols = range(1,size+1)\n",
        "  nums = range(1,size+1)\n",
        "\n",
        "  x_ijk = LpVariable.dicts(\"x\",(rows,cols,nums),0,1,LpInteger)\n",
        "  obj= lpSum(x_ijk[i][j][k] for i in rows for j in cols for k in nums)\n",
        "  lp += obj, \"Objective Function\"\n",
        "\n",
        "  for j in cols:\n",
        "      for k in nums:\n",
        "          lp += lpSum([x_ijk[i][j][k] for i in rows]) == 1,\"\"\n",
        "  for i in rows:\n",
        "      for k in nums:\n",
        "          lp += lpSum([x_ijk[i][j][k] for j in cols]) == 1,\"\"\n",
        "  for i in rows:\n",
        "      for j in cols:\n",
        "          lp += lpSum([x_ijk[i][j][k] for k in nums]) == 1,\"\"\n",
        "  for k in nums:\n",
        "      for box in box_list:\n",
        "          lp += lpSum([x_ijk[i][j][k] for (i,j) in box]) == 1,\"\"\n",
        "  for i in range(len(grid)):\n",
        "      for j in range(len(grid)):\n",
        "          if grid[i][j]==0:\n",
        "            continue\n",
        "          else:\n",
        "            lp += x_ijk[i+1][j+1][grid[i][j]] == 1,\"\"\n",
        "\n",
        "  for a in range(1,random.randint(1, n)+1):\n",
        "    numbers = [*range(1,size+1)]\n",
        "    random.shuffle(numbers)\n",
        "    lp.solve()\n",
        "    for i in range(len(grid)):\n",
        "      for j in range(len(grid)):\n",
        "        for k in range(len(grid)):\n",
        "          if x_ijk[i+1][j+1][k+1].varValue==1:\n",
        "            grid[i][j] = numbers[k]\n",
        "          else:\n",
        "            continue\n",
        "    lp += lpSum(x_ijk[i][j][k] for k in nums for i in rows for j in cols if value(x_ijk[i][j][k]) == 1) <= (len(grid)**2-1)\n",
        "\n",
        "  print(\"Solusi: \")\n",
        "  al = \"╔\"; am = \"╦\"; ar = \"╗\"; g = \"═\"\n",
        "  ml = \"╠\"; mm = \"╬\"; mr = \"╣\"\n",
        "  bl = \"╚\"; bm = \"╩\"; br = \"╝\"\n",
        "  pgaris = (bsize*2+1)*g\n",
        "  for i in rows:\n",
        "    line=\"\"\n",
        "    if i==1: print(al+(bsize-1)*(pgaris+am)+(pgaris+ar))\n",
        "    elif i in range(1+bsize,size,bsize): print(ml+(bsize-1)*(pgaris+mm)+(pgaris+mr))\n",
        "    for j in cols:\n",
        "      p = grid[i-1][j-1]\n",
        "      if j in range(1,size,bsize): line+=\"║ \"\n",
        "      line += str(p)+\" \"\n",
        "      if j == size: line+=\"║ \"\n",
        "    print(line)\n",
        "  print(bl+(bsize-1)*(pgaris+bm)+(pgaris+br))\n"
      ],
      "metadata": {
        "id": "5T-6YHTW_92J"
      },
      "execution_count": null,
      "outputs": []
    },
    {
      "cell_type": "code",
      "source": [
        "GenerateGrid(2)"
      ],
      "metadata": {
        "colab": {
          "base_uri": "https://localhost:8080/"
        },
        "id": "SU82voZWhLPK",
        "outputId": "487b0a52-dc8b-4462-a6c3-7415e7c43ddb"
      },
      "execution_count": null,
      "outputs": [
        {
          "output_type": "stream",
          "name": "stdout",
          "text": [
            "Solusi: \n",
            "╔═════╦═════╗\n",
            "║ 2 1 ║ 3 4 ║ \n",
            "║ 4 3 ║ 2 1 ║ \n",
            "╠═════╬═════╣\n",
            "║ 3 4 ║ 1 2 ║ \n",
            "║ 1 2 ║ 4 3 ║ \n",
            "╚═════╩═════╝\n"
          ]
        },
        {
          "output_type": "stream",
          "name": "stderr",
          "text": [
            "/usr/local/lib/python3.10/dist-packages/pulp/pulp.py:1316: UserWarning: Spaces are not permitted in the name. Converted to '_'\n",
            "  warnings.warn(\"Spaces are not permitted in the name. Converted to '_'\")\n"
          ]
        }
      ]
    },
    {
      "cell_type": "code",
      "source": [
        "def UniqueTest(grid):\n",
        "    global feasible_solution_count\n",
        "    size=len(grid)\n",
        "    bsize=int(math.sqrt(len(grid)))\n",
        "    index_list=[]\n",
        "    for i in range(1,size+1):\n",
        "        list = []\n",
        "        for j in range(1,size+1):\n",
        "            index = (i,j)\n",
        "            list.append(index)\n",
        "        index_list.append(list)\n",
        "    box_list=[]\n",
        "    for i in range(0,bsize):\n",
        "        for j in range(0,bsize):\n",
        "            box = [index_list[bsize*i+p][bsize*j+q] for p in range(0,bsize) for q in range(0,bsize)]\n",
        "            box_list.append(box)\n",
        "\n",
        "    lp = LpProblem(\"Sudoku LP\",LpMinimize)\n",
        "    rows = range(1,size+1)\n",
        "    cols = range(1,size+1)\n",
        "    nums = range(1,size+1)\n",
        "\n",
        "    x_ijk = LpVariable.dicts(\"x\",(rows,cols,nums),0,1,LpInteger)\n",
        "    obj=lpSum(x_ijk[i][j][k] for i in rows for j in cols for k in nums)\n",
        "    lp += obj, \"Objective Function\"\n",
        "\n",
        "    for j in cols:\n",
        "        for k in nums:\n",
        "            lp += lpSum([x_ijk[i][j][k] for i in rows]) == 1,\"\"\n",
        "    for i in rows:\n",
        "        for k in nums:\n",
        "            lp += lpSum([x_ijk[i][j][k] for j in cols]) == 1,\"\"\n",
        "    for i in rows:\n",
        "        for j in cols:\n",
        "            lp += lpSum([x_ijk[i][j][k] for k in nums]) == 1,\"\"\n",
        "    for j in nums:\n",
        "        for box in box_list:\n",
        "            lp += lpSum([x_ijk[i][j][k] for (i,j) in box]) == 1,\"\"\n",
        "    for i in range(len(grid)):\n",
        "        for j in range(len(grid)):\n",
        "            if grid[i][j]==0:\n",
        "              continue\n",
        "            else:\n",
        "              lp += x_ijk[i+1][j+1][grid[i][j]] == 1,\"\"\n",
        "    feasible_solution_count = 0\n",
        "    while True:\n",
        "      lp.solve()\n",
        "      if str(LpStatus[lp.status]) == \"Infeasible\":\n",
        "        break\n",
        "      else:\n",
        "        lp += lpSum(x_ijk[i][j][k] for k in nums for i in rows for j in cols if value(x_ijk[i][j][k]) == 1) <= (len(grid)**2-1)\n",
        "        feasible_solution_count += 1\n",
        "        if feasible_solution_count == 3:\n",
        "          break"
      ],
      "metadata": {
        "id": "67hiOkdlKtSr"
      },
      "execution_count": null,
      "outputs": []
    },
    {
      "cell_type": "code",
      "source": [
        "def GeneratePuzzle(n):\n",
        "  global newgrid\n",
        "  global step_list\n",
        "  global tempgrid1\n",
        "\n",
        "  GenerateGrid(n)\n",
        "\n",
        "  size=len(grid)\n",
        "  bsize=int(math.sqrt(len(grid)))\n",
        "  rows = range(1,size+1)\n",
        "  cols = range(1,size+1)\n",
        "  nums = range(1,size+1)\n",
        "\n",
        "  newgrid = copy.deepcopy(grid)\n",
        "  listofindex = []\n",
        "  for i in range(len(grid)):\n",
        "    for j in range(len(grid)):\n",
        "      index = (i,j)\n",
        "      listofindex.append(index)\n",
        "  random.shuffle(listofindex)\n",
        "  x = 0\n",
        "  step_list = []\n",
        "\n",
        "  while x != len(listofindex):\n",
        "    i,j = listofindex[x]\n",
        "    tempgrid = copy.deepcopy(newgrid)\n",
        "    tempgrid1 = copy.deepcopy(newgrid)\n",
        "    tempgrid1[i][j] = 0\n",
        "    UniqueTest(tempgrid1)\n",
        "    x += 1\n",
        "    if feasible_solution_count==1:\n",
        "      step_list.append(tempgrid1)\n",
        "      newgrid = copy.deepcopy(tempgrid1)\n",
        "    else:\n",
        "      newgrid = copy.deepcopy(tempgrid)\n",
        "      continue\n",
        "\n",
        "  print(\"Masalah: \")\n",
        "  al = \"╔\"; am = \"╦\"; ar = \"╗\"; g = \"═\"\n",
        "  ml = \"╠\"; mm = \"╬\"; mr = \"╣\"\n",
        "  bl = \"╚\"; bm = \"╩\"; br = \"╝\"\n",
        "  pgaris = (bsize*2+1)*g\n",
        "  for i in rows:\n",
        "    line=\"\"\n",
        "    if i==1: print(al+(bsize-1)*(pgaris+am)+(pgaris+ar))\n",
        "    elif i in range(1+bsize,size,bsize): print(ml+(bsize-1)*(pgaris+mm)+(pgaris+mr))\n",
        "    for j in cols:\n",
        "      p = newgrid[i-1][j-1]\n",
        "      if j in range(1,size,bsize): line+=\"║ \"\n",
        "      line += str(p)+\" \"\n",
        "      if j == size: line+=\"║ \"\n",
        "    print(line)\n",
        "  print(bl+(bsize-1)*(pgaris+bm)+(pgaris+br))"
      ],
      "metadata": {
        "id": "Y-lrUViZKvIr"
      },
      "execution_count": null,
      "outputs": []
    },
    {
      "cell_type": "code",
      "source": [
        "print(GeneratePuzzle(2))"
      ],
      "metadata": {
        "colab": {
          "base_uri": "https://localhost:8080/"
        },
        "id": "gD-QUpnNlNPe",
        "outputId": "c96fb47c-eb85-45bf-efae-c944304d81f6"
      },
      "execution_count": null,
      "outputs": [
        {
          "output_type": "stream",
          "name": "stdout",
          "text": [
            "Solusi: \n",
            "╔═════╦═════╗\n",
            "║ 4 3 ║ 1 2 ║ \n",
            "║ 2 1 ║ 3 4 ║ \n",
            "╠═════╬═════╣\n",
            "║ 1 2 ║ 4 3 ║ \n",
            "║ 3 4 ║ 2 1 ║ \n",
            "╚═════╩═════╝\n",
            "Masalah: \n",
            "╔═════╦═════╗\n",
            "║ 4 0 ║ 0 0 ║ \n",
            "║ 0 1 ║ 0 0 ║ \n",
            "╠═════╬═════╣\n",
            "║ 0 2 ║ 4 0 ║ \n",
            "║ 0 0 ║ 2 1 ║ \n",
            "╚═════╩═════╝\n",
            "None\n"
          ]
        }
      ]
    },
    {
      "cell_type": "code",
      "source": [
        "print(GeneratePuzzle(3))"
      ],
      "metadata": {
        "colab": {
          "base_uri": "https://localhost:8080/"
        },
        "id": "BbIWVsvlK93x",
        "outputId": "0b7d8949-d371-4818-92d1-2a8c7fc80b99"
      },
      "execution_count": null,
      "outputs": [
        {
          "output_type": "stream",
          "name": "stdout",
          "text": [
            "Solusi: \n",
            "╔═══════╦═══════╦═══════╗\n",
            "║ 1 6 7 ║ 8 2 9 ║ 3 4 5 ║ \n",
            "║ 9 8 3 ║ 4 6 5 ║ 7 1 2 ║ \n",
            "║ 4 2 5 ║ 1 3 7 ║ 9 8 6 ║ \n",
            "╠═══════╬═══════╬═══════╣\n",
            "║ 3 5 8 ║ 7 1 4 ║ 2 6 9 ║ \n",
            "║ 7 1 2 ║ 9 5 6 ║ 4 3 8 ║ \n",
            "║ 6 4 9 ║ 2 8 3 ║ 5 7 1 ║ \n",
            "╠═══════╬═══════╬═══════╣\n",
            "║ 2 3 6 ║ 5 4 1 ║ 8 9 7 ║ \n",
            "║ 5 9 1 ║ 3 7 8 ║ 6 2 4 ║ \n",
            "║ 8 7 4 ║ 6 9 2 ║ 1 5 3 ║ \n",
            "╚═══════╩═══════╩═══════╝\n",
            "Masalah: \n",
            "╔═══════╦═══════╦═══════╗\n",
            "║ 0 0 7 ║ 8 0 0 ║ 0 0 0 ║ \n",
            "║ 0 0 0 ║ 4 6 5 ║ 0 0 0 ║ \n",
            "║ 0 2 5 ║ 0 0 0 ║ 9 0 0 ║ \n",
            "╠═══════╬═══════╬═══════╣\n",
            "║ 3 0 8 ║ 7 0 0 ║ 2 0 0 ║ \n",
            "║ 0 1 2 ║ 0 5 6 ║ 0 3 0 ║ \n",
            "║ 0 0 0 ║ 0 0 0 ║ 0 7 1 ║ \n",
            "╠═══════╬═══════╬═══════╣\n",
            "║ 0 3 0 ║ 0 4 0 ║ 0 0 7 ║ \n",
            "║ 0 9 0 ║ 3 7 0 ║ 6 0 0 ║ \n",
            "║ 8 0 4 ║ 0 9 0 ║ 0 5 3 ║ \n",
            "╚═══════╩═══════╩═══════╝\n",
            "None\n"
          ]
        }
      ]
    },
    {
      "cell_type": "code",
      "source": [
        "print(GeneratePuzzle(4))"
      ],
      "metadata": {
        "colab": {
          "base_uri": "https://localhost:8080/",
          "height": 668
        },
        "id": "gL9I67eulRyF",
        "outputId": "751452bd-9926-4032-c53c-62989a16e3ab"
      },
      "execution_count": null,
      "outputs": [
        {
          "output_type": "stream",
          "name": "stdout",
          "text": [
            "Solusi: \n",
            "╔═════════╦═════════╦═════════╦═════════╗\n",
            "║ 16 13 12 7 ║ 1 14 5 8 ║ 6 9 3 15 ║ 10 4 2 11 ║ \n",
            "║ 2 4 11 6 ║ 16 9 7 3 ║ 12 8 10 1 ║ 13 5 15 14 ║ \n",
            "║ 8 5 15 3 ║ 12 10 13 11 ║ 16 14 2 4 ║ 9 1 6 7 ║ \n",
            "║ 14 9 10 1 ║ 15 2 4 6 ║ 5 7 13 11 ║ 8 16 3 12 ║ \n",
            "╠═════════╬═════════╬═════════╬═════════╣\n",
            "║ 9 2 16 5 ║ 13 8 14 12 ║ 10 3 15 6 ║ 1 7 11 4 ║ \n",
            "║ 7 3 4 8 ║ 10 11 16 15 ║ 9 1 12 5 ║ 2 6 14 13 ║ \n",
            "║ 13 14 6 15 ║ 7 5 1 2 ║ 4 11 16 8 ║ 3 10 12 9 ║ \n",
            "║ 10 11 1 12 ║ 4 6 3 9 ║ 14 13 7 2 ║ 15 8 16 5 ║ \n",
            "╠═════════╬═════════╬═════════╬═════════╣\n",
            "║ 11 15 3 16 ║ 9 12 10 7 ║ 8 5 4 14 ║ 6 13 1 2 ║ \n",
            "║ 5 6 13 10 ║ 8 15 11 1 ║ 3 2 9 7 ║ 12 14 4 16 ║ \n",
            "║ 4 7 2 9 ║ 14 3 6 16 ║ 15 12 1 13 ║ 5 11 10 8 ║ \n",
            "║ 12 1 8 14 ║ 5 4 2 13 ║ 11 16 6 10 ║ 7 3 9 15 ║ \n",
            "╠═════════╬═════════╬═════════╬═════════╣\n",
            "║ 6 8 7 4 ║ 3 13 15 14 ║ 2 10 11 9 ║ 16 12 5 1 ║ \n",
            "║ 15 16 5 11 ║ 6 7 9 10 ║ 1 4 8 12 ║ 14 2 13 3 ║ \n",
            "║ 3 12 9 2 ║ 11 1 8 5 ║ 13 6 14 16 ║ 4 15 7 10 ║ \n",
            "║ 1 10 14 13 ║ 2 16 12 4 ║ 7 15 5 3 ║ 11 9 8 6 ║ \n",
            "╚═════════╩═════════╩═════════╩═════════╝\n"
          ]
        },
        {
          "output_type": "error",
          "ename": "KeyboardInterrupt",
          "evalue": "",
          "traceback": [
            "\u001b[0;31m---------------------------------------------------------------------------\u001b[0m",
            "\u001b[0;31mKeyboardInterrupt\u001b[0m                         Traceback (most recent call last)",
            "\u001b[0;32m<ipython-input-9-e5bcb52b8c97>\u001b[0m in \u001b[0;36m<cell line: 1>\u001b[0;34m()\u001b[0m\n\u001b[0;32m----> 1\u001b[0;31m \u001b[0mprint\u001b[0m\u001b[0;34m(\u001b[0m\u001b[0mGeneratePuzzle\u001b[0m\u001b[0;34m(\u001b[0m\u001b[0;36m4\u001b[0m\u001b[0;34m)\u001b[0m\u001b[0;34m)\u001b[0m\u001b[0;34m\u001b[0m\u001b[0;34m\u001b[0m\u001b[0m\n\u001b[0m",
            "\u001b[0;32m<ipython-input-6-93cf1f98c86e>\u001b[0m in \u001b[0;36mGeneratePuzzle\u001b[0;34m(n)\u001b[0m\n\u001b[1;32m     27\u001b[0m     \u001b[0mtempgrid1\u001b[0m \u001b[0;34m=\u001b[0m \u001b[0mcopy\u001b[0m\u001b[0;34m.\u001b[0m\u001b[0mdeepcopy\u001b[0m\u001b[0;34m(\u001b[0m\u001b[0mnewgrid\u001b[0m\u001b[0;34m)\u001b[0m\u001b[0;34m\u001b[0m\u001b[0;34m\u001b[0m\u001b[0m\n\u001b[1;32m     28\u001b[0m     \u001b[0mtempgrid1\u001b[0m\u001b[0;34m[\u001b[0m\u001b[0mi\u001b[0m\u001b[0;34m]\u001b[0m\u001b[0;34m[\u001b[0m\u001b[0mj\u001b[0m\u001b[0;34m]\u001b[0m \u001b[0;34m=\u001b[0m \u001b[0;36m0\u001b[0m\u001b[0;34m\u001b[0m\u001b[0;34m\u001b[0m\u001b[0m\n\u001b[0;32m---> 29\u001b[0;31m     \u001b[0mUniqueTest\u001b[0m\u001b[0;34m(\u001b[0m\u001b[0mtempgrid1\u001b[0m\u001b[0;34m)\u001b[0m\u001b[0;34m\u001b[0m\u001b[0;34m\u001b[0m\u001b[0m\n\u001b[0m\u001b[1;32m     30\u001b[0m     \u001b[0mx\u001b[0m \u001b[0;34m+=\u001b[0m \u001b[0;36m1\u001b[0m\u001b[0;34m\u001b[0m\u001b[0;34m\u001b[0m\u001b[0m\n\u001b[1;32m     31\u001b[0m     \u001b[0;32mif\u001b[0m \u001b[0mfeasible_solution_count\u001b[0m\u001b[0;34m==\u001b[0m\u001b[0;36m1\u001b[0m\u001b[0;34m:\u001b[0m\u001b[0;34m\u001b[0m\u001b[0;34m\u001b[0m\u001b[0m\n",
            "\u001b[0;32m<ipython-input-5-00ffede78dee>\u001b[0m in \u001b[0;36mUniqueTest\u001b[0;34m(grid)\u001b[0m\n\u001b[1;32m     45\u001b[0m     \u001b[0mfeasible_solution_count\u001b[0m \u001b[0;34m=\u001b[0m \u001b[0;36m0\u001b[0m\u001b[0;34m\u001b[0m\u001b[0;34m\u001b[0m\u001b[0m\n\u001b[1;32m     46\u001b[0m     \u001b[0;32mwhile\u001b[0m \u001b[0;32mTrue\u001b[0m\u001b[0;34m:\u001b[0m\u001b[0;34m\u001b[0m\u001b[0;34m\u001b[0m\u001b[0m\n\u001b[0;32m---> 47\u001b[0;31m       \u001b[0mlp\u001b[0m\u001b[0;34m.\u001b[0m\u001b[0msolve\u001b[0m\u001b[0;34m(\u001b[0m\u001b[0;34m)\u001b[0m\u001b[0;34m\u001b[0m\u001b[0;34m\u001b[0m\u001b[0m\n\u001b[0m\u001b[1;32m     48\u001b[0m       \u001b[0;32mif\u001b[0m \u001b[0mstr\u001b[0m\u001b[0;34m(\u001b[0m\u001b[0mLpStatus\u001b[0m\u001b[0;34m[\u001b[0m\u001b[0mlp\u001b[0m\u001b[0;34m.\u001b[0m\u001b[0mstatus\u001b[0m\u001b[0;34m]\u001b[0m\u001b[0;34m)\u001b[0m \u001b[0;34m==\u001b[0m \u001b[0;34m\"Infeasible\"\u001b[0m\u001b[0;34m:\u001b[0m\u001b[0;34m\u001b[0m\u001b[0;34m\u001b[0m\u001b[0m\n\u001b[1;32m     49\u001b[0m         \u001b[0;32mbreak\u001b[0m\u001b[0;34m\u001b[0m\u001b[0;34m\u001b[0m\u001b[0m\n",
            "\u001b[0;32m/usr/local/lib/python3.10/dist-packages/pulp/pulp.py\u001b[0m in \u001b[0;36msolve\u001b[0;34m(self, solver, **kwargs)\u001b[0m\n\u001b[1;32m   1881\u001b[0m         \u001b[0;31m# time it\u001b[0m\u001b[0;34m\u001b[0m\u001b[0;34m\u001b[0m\u001b[0m\n\u001b[1;32m   1882\u001b[0m         \u001b[0mself\u001b[0m\u001b[0;34m.\u001b[0m\u001b[0mstartClock\u001b[0m\u001b[0;34m(\u001b[0m\u001b[0;34m)\u001b[0m\u001b[0;34m\u001b[0m\u001b[0;34m\u001b[0m\u001b[0m\n\u001b[0;32m-> 1883\u001b[0;31m         \u001b[0mstatus\u001b[0m \u001b[0;34m=\u001b[0m \u001b[0msolver\u001b[0m\u001b[0;34m.\u001b[0m\u001b[0mactualSolve\u001b[0m\u001b[0;34m(\u001b[0m\u001b[0mself\u001b[0m\u001b[0;34m,\u001b[0m \u001b[0;34m**\u001b[0m\u001b[0mkwargs\u001b[0m\u001b[0;34m)\u001b[0m\u001b[0;34m\u001b[0m\u001b[0;34m\u001b[0m\u001b[0m\n\u001b[0m\u001b[1;32m   1884\u001b[0m         \u001b[0mself\u001b[0m\u001b[0;34m.\u001b[0m\u001b[0mstopClock\u001b[0m\u001b[0;34m(\u001b[0m\u001b[0;34m)\u001b[0m\u001b[0;34m\u001b[0m\u001b[0;34m\u001b[0m\u001b[0m\n\u001b[1;32m   1885\u001b[0m         \u001b[0mself\u001b[0m\u001b[0;34m.\u001b[0m\u001b[0mrestoreObjective\u001b[0m\u001b[0;34m(\u001b[0m\u001b[0mwasNone\u001b[0m\u001b[0;34m,\u001b[0m \u001b[0mdummyVar\u001b[0m\u001b[0;34m)\u001b[0m\u001b[0;34m\u001b[0m\u001b[0;34m\u001b[0m\u001b[0m\n",
            "\u001b[0;32m/usr/local/lib/python3.10/dist-packages/pulp/apis/coin_api.py\u001b[0m in \u001b[0;36mactualSolve\u001b[0;34m(self, lp, **kwargs)\u001b[0m\n\u001b[1;32m    110\u001b[0m     \u001b[0;32mdef\u001b[0m \u001b[0mactualSolve\u001b[0m\u001b[0;34m(\u001b[0m\u001b[0mself\u001b[0m\u001b[0;34m,\u001b[0m \u001b[0mlp\u001b[0m\u001b[0;34m,\u001b[0m \u001b[0;34m**\u001b[0m\u001b[0mkwargs\u001b[0m\u001b[0;34m)\u001b[0m\u001b[0;34m:\u001b[0m\u001b[0;34m\u001b[0m\u001b[0;34m\u001b[0m\u001b[0m\n\u001b[1;32m    111\u001b[0m         \u001b[0;34m\"\"\"Solve a well formulated lp problem\"\"\"\u001b[0m\u001b[0;34m\u001b[0m\u001b[0;34m\u001b[0m\u001b[0m\n\u001b[0;32m--> 112\u001b[0;31m         \u001b[0;32mreturn\u001b[0m \u001b[0mself\u001b[0m\u001b[0;34m.\u001b[0m\u001b[0msolve_CBC\u001b[0m\u001b[0;34m(\u001b[0m\u001b[0mlp\u001b[0m\u001b[0;34m,\u001b[0m \u001b[0;34m**\u001b[0m\u001b[0mkwargs\u001b[0m\u001b[0;34m)\u001b[0m\u001b[0;34m\u001b[0m\u001b[0;34m\u001b[0m\u001b[0m\n\u001b[0m\u001b[1;32m    113\u001b[0m \u001b[0;34m\u001b[0m\u001b[0m\n\u001b[1;32m    114\u001b[0m     \u001b[0;32mdef\u001b[0m \u001b[0mavailable\u001b[0m\u001b[0;34m(\u001b[0m\u001b[0mself\u001b[0m\u001b[0;34m)\u001b[0m\u001b[0;34m:\u001b[0m\u001b[0;34m\u001b[0m\u001b[0;34m\u001b[0m\u001b[0m\n",
            "\u001b[0;32m/usr/local/lib/python3.10/dist-packages/pulp/apis/coin_api.py\u001b[0m in \u001b[0;36msolve_CBC\u001b[0;34m(self, lp, use_mps)\u001b[0m\n\u001b[1;32m    176\u001b[0m         \u001b[0;32melse\u001b[0m\u001b[0;34m:\u001b[0m\u001b[0;34m\u001b[0m\u001b[0;34m\u001b[0m\u001b[0m\n\u001b[1;32m    177\u001b[0m             \u001b[0mcbc\u001b[0m \u001b[0;34m=\u001b[0m \u001b[0msubprocess\u001b[0m\u001b[0;34m.\u001b[0m\u001b[0mPopen\u001b[0m\u001b[0;34m(\u001b[0m\u001b[0margs\u001b[0m\u001b[0;34m,\u001b[0m \u001b[0mstdout\u001b[0m\u001b[0;34m=\u001b[0m\u001b[0mpipe\u001b[0m\u001b[0;34m,\u001b[0m \u001b[0mstderr\u001b[0m\u001b[0;34m=\u001b[0m\u001b[0mpipe\u001b[0m\u001b[0;34m,\u001b[0m \u001b[0mstdin\u001b[0m\u001b[0;34m=\u001b[0m\u001b[0mdevnull\u001b[0m\u001b[0;34m)\u001b[0m\u001b[0;34m\u001b[0m\u001b[0;34m\u001b[0m\u001b[0m\n\u001b[0;32m--> 178\u001b[0;31m         \u001b[0;32mif\u001b[0m \u001b[0mcbc\u001b[0m\u001b[0;34m.\u001b[0m\u001b[0mwait\u001b[0m\u001b[0;34m(\u001b[0m\u001b[0;34m)\u001b[0m \u001b[0;34m!=\u001b[0m \u001b[0;36m0\u001b[0m\u001b[0;34m:\u001b[0m\u001b[0;34m\u001b[0m\u001b[0;34m\u001b[0m\u001b[0m\n\u001b[0m\u001b[1;32m    179\u001b[0m             \u001b[0;32mif\u001b[0m \u001b[0mpipe\u001b[0m\u001b[0;34m:\u001b[0m\u001b[0;34m\u001b[0m\u001b[0;34m\u001b[0m\u001b[0m\n\u001b[1;32m    180\u001b[0m                 \u001b[0mpipe\u001b[0m\u001b[0;34m.\u001b[0m\u001b[0mclose\u001b[0m\u001b[0;34m(\u001b[0m\u001b[0;34m)\u001b[0m\u001b[0;34m\u001b[0m\u001b[0;34m\u001b[0m\u001b[0m\n",
            "\u001b[0;32m/usr/lib/python3.10/subprocess.py\u001b[0m in \u001b[0;36mwait\u001b[0;34m(self, timeout)\u001b[0m\n\u001b[1;32m   1207\u001b[0m             \u001b[0mendtime\u001b[0m \u001b[0;34m=\u001b[0m \u001b[0m_time\u001b[0m\u001b[0;34m(\u001b[0m\u001b[0;34m)\u001b[0m \u001b[0;34m+\u001b[0m \u001b[0mtimeout\u001b[0m\u001b[0;34m\u001b[0m\u001b[0;34m\u001b[0m\u001b[0m\n\u001b[1;32m   1208\u001b[0m         \u001b[0;32mtry\u001b[0m\u001b[0;34m:\u001b[0m\u001b[0;34m\u001b[0m\u001b[0;34m\u001b[0m\u001b[0m\n\u001b[0;32m-> 1209\u001b[0;31m             \u001b[0;32mreturn\u001b[0m \u001b[0mself\u001b[0m\u001b[0;34m.\u001b[0m\u001b[0m_wait\u001b[0m\u001b[0;34m(\u001b[0m\u001b[0mtimeout\u001b[0m\u001b[0;34m=\u001b[0m\u001b[0mtimeout\u001b[0m\u001b[0;34m)\u001b[0m\u001b[0;34m\u001b[0m\u001b[0;34m\u001b[0m\u001b[0m\n\u001b[0m\u001b[1;32m   1210\u001b[0m         \u001b[0;32mexcept\u001b[0m \u001b[0mKeyboardInterrupt\u001b[0m\u001b[0;34m:\u001b[0m\u001b[0;34m\u001b[0m\u001b[0;34m\u001b[0m\u001b[0m\n\u001b[1;32m   1211\u001b[0m             \u001b[0;31m# https://bugs.python.org/issue25942\u001b[0m\u001b[0;34m\u001b[0m\u001b[0;34m\u001b[0m\u001b[0m\n",
            "\u001b[0;32m/usr/lib/python3.10/subprocess.py\u001b[0m in \u001b[0;36m_wait\u001b[0;34m(self, timeout)\u001b[0m\n\u001b[1;32m   1957\u001b[0m                         \u001b[0;32mif\u001b[0m \u001b[0mself\u001b[0m\u001b[0;34m.\u001b[0m\u001b[0mreturncode\u001b[0m \u001b[0;32mis\u001b[0m \u001b[0;32mnot\u001b[0m \u001b[0;32mNone\u001b[0m\u001b[0;34m:\u001b[0m\u001b[0;34m\u001b[0m\u001b[0;34m\u001b[0m\u001b[0m\n\u001b[1;32m   1958\u001b[0m                             \u001b[0;32mbreak\u001b[0m  \u001b[0;31m# Another thread waited.\u001b[0m\u001b[0;34m\u001b[0m\u001b[0;34m\u001b[0m\u001b[0m\n\u001b[0;32m-> 1959\u001b[0;31m                         \u001b[0;34m(\u001b[0m\u001b[0mpid\u001b[0m\u001b[0;34m,\u001b[0m \u001b[0msts\u001b[0m\u001b[0;34m)\u001b[0m \u001b[0;34m=\u001b[0m \u001b[0mself\u001b[0m\u001b[0;34m.\u001b[0m\u001b[0m_try_wait\u001b[0m\u001b[0;34m(\u001b[0m\u001b[0;36m0\u001b[0m\u001b[0;34m)\u001b[0m\u001b[0;34m\u001b[0m\u001b[0;34m\u001b[0m\u001b[0m\n\u001b[0m\u001b[1;32m   1960\u001b[0m                         \u001b[0;31m# Check the pid and loop as waitpid has been known to\u001b[0m\u001b[0;34m\u001b[0m\u001b[0;34m\u001b[0m\u001b[0m\n\u001b[1;32m   1961\u001b[0m                         \u001b[0;31m# return 0 even without WNOHANG in odd situations.\u001b[0m\u001b[0;34m\u001b[0m\u001b[0;34m\u001b[0m\u001b[0m\n",
            "\u001b[0;32m/usr/lib/python3.10/subprocess.py\u001b[0m in \u001b[0;36m_try_wait\u001b[0;34m(self, wait_flags)\u001b[0m\n\u001b[1;32m   1915\u001b[0m             \u001b[0;34m\"\"\"All callers to this function MUST hold self._waitpid_lock.\"\"\"\u001b[0m\u001b[0;34m\u001b[0m\u001b[0;34m\u001b[0m\u001b[0m\n\u001b[1;32m   1916\u001b[0m             \u001b[0;32mtry\u001b[0m\u001b[0;34m:\u001b[0m\u001b[0;34m\u001b[0m\u001b[0;34m\u001b[0m\u001b[0m\n\u001b[0;32m-> 1917\u001b[0;31m                 \u001b[0;34m(\u001b[0m\u001b[0mpid\u001b[0m\u001b[0;34m,\u001b[0m \u001b[0msts\u001b[0m\u001b[0;34m)\u001b[0m \u001b[0;34m=\u001b[0m \u001b[0mos\u001b[0m\u001b[0;34m.\u001b[0m\u001b[0mwaitpid\u001b[0m\u001b[0;34m(\u001b[0m\u001b[0mself\u001b[0m\u001b[0;34m.\u001b[0m\u001b[0mpid\u001b[0m\u001b[0;34m,\u001b[0m \u001b[0mwait_flags\u001b[0m\u001b[0;34m)\u001b[0m\u001b[0;34m\u001b[0m\u001b[0;34m\u001b[0m\u001b[0m\n\u001b[0m\u001b[1;32m   1918\u001b[0m             \u001b[0;32mexcept\u001b[0m \u001b[0mChildProcessError\u001b[0m\u001b[0;34m:\u001b[0m\u001b[0;34m\u001b[0m\u001b[0;34m\u001b[0m\u001b[0m\n\u001b[1;32m   1919\u001b[0m                 \u001b[0;31m# This happens if SIGCLD is set to be ignored or waiting\u001b[0m\u001b[0;34m\u001b[0m\u001b[0;34m\u001b[0m\u001b[0m\n",
            "\u001b[0;31mKeyboardInterrupt\u001b[0m: "
          ]
        }
      ]
    }
  ]
}