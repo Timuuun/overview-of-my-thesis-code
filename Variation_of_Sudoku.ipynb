{
  "nbformat": 4,
  "nbformat_minor": 0,
  "metadata": {
    "colab": {
      "provenance": [],
      "authorship_tag": "ABX9TyNqDVMZLdyhKzdhKeXASkKw"
    },
    "kernelspec": {
      "name": "python3",
      "display_name": "Python 3"
    },
    "language_info": {
      "name": "python"
    }
  },
  "cells": [
    {
      "cell_type": "code",
      "source": [
        "pip install pulp"
      ],
      "metadata": {
        "colab": {
          "base_uri": "https://localhost:8080/"
        },
        "id": "CXv9q-64yLo4",
        "outputId": "0e2cbe3c-2d77-43f7-cc33-5b35454f8770"
      },
      "execution_count": null,
      "outputs": [
        {
          "output_type": "stream",
          "name": "stdout",
          "text": [
            "Collecting pulp\n",
            "  Downloading PuLP-2.8.0-py3-none-any.whl (17.7 MB)\n",
            "\u001b[2K     \u001b[90m━━━━━━━━━━━━━━━━━━━━━━━━━━━━━━━━━━━━━━━━\u001b[0m \u001b[32m17.7/17.7 MB\u001b[0m \u001b[31m38.5 MB/s\u001b[0m eta \u001b[36m0:00:00\u001b[0m\n",
            "\u001b[?25hInstalling collected packages: pulp\n",
            "Successfully installed pulp-2.8.0\n"
          ]
        }
      ]
    },
    {
      "cell_type": "code",
      "source": [
        "from pulp import *\n",
        "import math\n",
        "import copy\n",
        "import random"
      ],
      "metadata": {
        "id": "hJgojuUDyPIt"
      },
      "execution_count": null,
      "outputs": []
    },
    {
      "cell_type": "markdown",
      "source": [
        "Sudoku X"
      ],
      "metadata": {
        "id": "TG2MJH6uyVm0"
      }
    },
    {
      "cell_type": "code",
      "source": [
        "grid = [[0,0,0, 0,0,0, 0,0,0],\n",
        "        [0,0,0, 0,0,0, 0,0,0],\n",
        "        [0,0,0, 0,0,0, 0,0,0],\n",
        "\n",
        "        [0,0,0, 0,0,0, 0,0,0],\n",
        "        [0,0,0, 0,0,0, 0,0,0],\n",
        "        [0,0,0, 0,0,0, 0,0,0],\n",
        "\n",
        "        [0,0,0, 0,0,0, 0,0,0],\n",
        "        [0,0,0, 0,0,0, 0,0,0],\n",
        "        [0,0,0, 0,0,0, 0,0,0]]"
      ],
      "metadata": {
        "id": "OZuqf2PUy2au"
      },
      "execution_count": null,
      "outputs": []
    },
    {
      "cell_type": "code",
      "execution_count": null,
      "metadata": {
        "colab": {
          "base_uri": "https://localhost:8080/"
        },
        "id": "VegoYwI7yILO",
        "outputId": "12bef305-495e-4401-a88f-da26e639dbaa"
      },
      "outputs": [
        {
          "output_type": "stream",
          "name": "stderr",
          "text": [
            "/usr/local/lib/python3.10/dist-packages/pulp/pulp.py:1316: UserWarning: Spaces are not permitted in the name. Converted to '_'\n",
            "  warnings.warn(\"Spaces are not permitted in the name. Converted to '_'\")\n"
          ]
        }
      ],
      "source": [
        "size=len(grid)\n",
        "bsize=int(math.sqrt(len(grid)))\n",
        "index_list=[]\n",
        "for i in range(1,size+1):\n",
        "    list = []\n",
        "    for j in range(1,size+1):\n",
        "        index = (i,j)\n",
        "        list.append(index)\n",
        "    index_list.append(list)\n",
        "box_list=[]\n",
        "for i in range(0,bsize):\n",
        "    for j in range(0,bsize):\n",
        "        box = [index_list[bsize*i+p][bsize*j+q] for p in range(0,bsize) for q in range(0,bsize)]\n",
        "        box_list.append(box)\n",
        "d_list=[]\n",
        "d = [index_list[i][i] for i in range(0,9)]\n",
        "d_list.append(d)\n",
        "d = [index_list[i][-i-1] for i in range(0,9)]\n",
        "d_list.append(d)\n",
        "\n",
        "lp = LpProblem(\"Sudoku LP\",LpMinimize)\n",
        "rows = range(1,size+1)\n",
        "cols = range(1,size+1)\n",
        "nums = range(1,size+1)\n",
        "\n",
        "x_ijk = LpVariable.dicts(\"x\",(rows,cols,nums),0,1,LpInteger)\n",
        "obj= lpSum(x_ijk[i][j][k] for i in rows for j in cols for k in nums)\n",
        "lp += obj, \"Objective Function\"\n",
        "\n",
        "for j in cols:\n",
        "    for k in nums:\n",
        "        lp += lpSum([x_ijk[i][j][k] for i in rows]) == 1,\"\"\n",
        "for i in rows:\n",
        "    for k in nums:\n",
        "        lp += lpSum([x_ijk[i][j][k] for j in cols]) == 1,\"\"\n",
        "for i in rows:\n",
        "    for j in cols:\n",
        "        lp += lpSum([x_ijk[i][j][k] for k in nums]) == 1,\"\"\n",
        "for k in nums:\n",
        "    for box in box_list:\n",
        "        lp += lpSum([x_ijk[i][j][k] for (i,j) in box]) == 1,\"\"\n",
        "for i in range(len(grid)):\n",
        "    for j in range(len(grid)):\n",
        "        if grid[i][j]==0:\n",
        "          continue\n",
        "        else:\n",
        "          lp += x_ijk[i+1][j+1][grid[i][j]] == 1,\"\"\n",
        "\n",
        "#Kendala diagonal\n",
        "for k in nums:\n",
        "    for d in d_list:\n",
        "        lp += lpSum([x_ijk[i][j][k] for (i,j) in d]) == 1,\"\"\n",
        "lp.solve()\n",
        "status = str(LpStatus[lp.status])"
      ]
    },
    {
      "cell_type": "code",
      "source": [
        "al = \"╔\"; am = \"╦\"; ar = \"╗\"; g = \"═\"\n",
        "ml = \"╠\"; mm = \"╬\"; mr = \"╣\"\n",
        "bl = \"╚\"; bm = \"╩\"; br = \"╝\"\n",
        "pgaris = (bsize*2+1)*g"
      ],
      "metadata": {
        "id": "mKYr2gxg0B5W"
      },
      "execution_count": null,
      "outputs": []
    },
    {
      "cell_type": "code",
      "source": [
        "if status == \"Optimal\":\n",
        "  for i in range(len(grid)):\n",
        "    for j in range(len(grid)):\n",
        "      for k in range(len(grid)):\n",
        "        if x_ijk[i+1][j+1][k+1].varValue==1:\n",
        "          grid[i][j] = nums[k]\n",
        "        else:\n",
        "          continue\n",
        "  for i in rows:\n",
        "    line=\"\"\n",
        "    if i==1: print(al+(bsize-1)*(pgaris+am)+(pgaris+ar))\n",
        "    elif i in range(1+bsize,size,bsize): print(ml+(bsize-1)*(pgaris+mm)+(pgaris+mr))\n",
        "    for j in cols:\n",
        "      p = grid[i-1][j-1]\n",
        "      if j in range(1,size,bsize): line+=\"║ \"\n",
        "      line += str(p)+\" \"\n",
        "      if j == size: line+=\"║ \"\n",
        "    print(line)\n",
        "  print(bl+(bsize-1)*(pgaris+bm)+(pgaris+br))\n",
        "else:\n",
        "    print(\"Optimal Solution could not be found.\")"
      ],
      "metadata": {
        "colab": {
          "base_uri": "https://localhost:8080/"
        },
        "id": "RnyZ0ZSl0Gfx",
        "outputId": "012d0a0f-58ff-467e-d5dc-c34e2438cb1b"
      },
      "execution_count": null,
      "outputs": [
        {
          "output_type": "stream",
          "name": "stdout",
          "text": [
            "╔═══════╦═══════╦═══════╗\n",
            "║ 2 8 4 ║ 6 9 7 ║ 1 3 5 ║ \n",
            "║ 1 5 6 ║ 8 3 4 ║ 7 2 9 ║ \n",
            "║ 9 3 7 ║ 5 2 1 ║ 4 6 8 ║ \n",
            "╠═══════╬═══════╬═══════╣\n",
            "║ 3 2 8 ║ 4 7 6 ║ 9 5 1 ║ \n",
            "║ 4 6 9 ║ 2 1 5 ║ 3 8 7 ║ \n",
            "║ 7 1 5 ║ 9 8 3 ║ 6 4 2 ║ \n",
            "╠═══════╬═══════╬═══════╣\n",
            "║ 5 9 3 ║ 7 6 2 ║ 8 1 4 ║ \n",
            "║ 6 7 2 ║ 1 4 8 ║ 5 9 3 ║ \n",
            "║ 8 4 1 ║ 3 5 9 ║ 2 7 6 ║ \n",
            "╚═══════╩═══════╩═══════╝\n"
          ]
        }
      ]
    },
    {
      "cell_type": "markdown",
      "source": [
        "Sudoku Center Dot"
      ],
      "metadata": {
        "id": "u7OPJHM4zOyp"
      }
    },
    {
      "cell_type": "code",
      "source": [
        "grid = [[0,0,0, 0,0,0, 0,0,0],\n",
        "        [0,0,0, 0,0,0, 0,0,0],\n",
        "        [0,0,0, 0,0,0, 0,0,0],\n",
        "\n",
        "        [0,0,0, 0,0,0, 0,0,0],\n",
        "        [0,0,0, 0,0,0, 0,0,0],\n",
        "        [0,0,0, 0,0,0, 0,0,0],\n",
        "\n",
        "        [0,0,0, 0,0,0, 0,0,0],\n",
        "        [0,0,0, 0,0,0, 0,0,0],\n",
        "        [0,0,0, 0,0,0, 0,0,0]]"
      ],
      "metadata": {
        "id": "sRITUTTazTev"
      },
      "execution_count": null,
      "outputs": []
    },
    {
      "cell_type": "code",
      "source": [
        "size=len(grid)\n",
        "bsize=int(math.sqrt(len(grid)))\n",
        "index_list=[]\n",
        "for i in range(1,size+1):\n",
        "    list = []\n",
        "    for j in range(1,size+1):\n",
        "        index = (i,j)\n",
        "        list.append(index)\n",
        "    index_list.append(list)\n",
        "box_list=[]\n",
        "for i in range(0,bsize):\n",
        "    for j in range(0,bsize):\n",
        "        box = [index_list[bsize*i+p][bsize*j+q] for p in range(0,bsize) for q in range(0,bsize)]\n",
        "        box_list.append(box)\n",
        "edot_list=[]\n",
        "edot = [index_list[r][i] for r in range(1,9,3) for i in range(1,8,3)]\n",
        "edot_list.append(edot)\n",
        "\n",
        "lp = LpProblem(\"Sudoku LP\",LpMinimize)\n",
        "rows = range(1,size+1)\n",
        "cols = range(1,size+1)\n",
        "nums = range(1,size+1)\n",
        "\n",
        "x_ijk = LpVariable.dicts(\"x\",(rows,cols,nums),0,1,LpInteger)\n",
        "obj= lpSum(x_ijk[i][j][k] for i in rows for j in cols for k in nums)\n",
        "lp += obj, \"Objective Function\"\n",
        "\n",
        "for j in cols:\n",
        "    for k in nums:\n",
        "        lp += lpSum([x_ijk[i][j][k] for i in rows]) == 1,\"\"\n",
        "for i in rows:\n",
        "    for k in nums:\n",
        "        lp += lpSum([x_ijk[i][j][k] for j in cols]) == 1,\"\"\n",
        "for i in rows:\n",
        "    for j in cols:\n",
        "        lp += lpSum([x_ijk[i][j][k] for k in nums]) == 1,\"\"\n",
        "for k in nums:\n",
        "    for box in box_list:\n",
        "        lp += lpSum([x_ijk[i][j][k] for (i,j) in box]) == 1,\"\"\n",
        "for i in range(len(grid)):\n",
        "    for j in range(len(grid)):\n",
        "        if grid[i][j]==0:\n",
        "          continue\n",
        "        else:\n",
        "          lp += x_ijk[i+1][j+1][grid[i][j]] == 1,\"\"\n",
        "\n",
        "#Kendala cdot\n",
        "for k in nums:\n",
        "    for edot in edot_list:\n",
        "        lp += lpSum([x_ijk[i][j][k] for (i,j) in edot]) == 1,\"\"\n",
        "lp.solve()\n",
        "status = str(LpStatus[lp.status])"
      ],
      "metadata": {
        "id": "kR3r0PQ20u5e"
      },
      "execution_count": null,
      "outputs": []
    },
    {
      "cell_type": "code",
      "source": [
        "if status == \"Optimal\":\n",
        "  for i in range(len(grid)):\n",
        "    for j in range(len(grid)):\n",
        "      for k in range(len(grid)):\n",
        "        if x_ijk[i+1][j+1][k+1].varValue==1:\n",
        "          grid[i][j] = nums[k]\n",
        "        else:\n",
        "          continue\n",
        "  for i in rows:\n",
        "    line=\"\"\n",
        "    if i==1: print(al+(bsize-1)*(pgaris+am)+(pgaris+ar))\n",
        "    elif i in range(1+bsize,size,bsize): print(ml+(bsize-1)*(pgaris+mm)+(pgaris+mr))\n",
        "    for j in cols:\n",
        "      p = grid[i-1][j-1]\n",
        "      if j in range(1,size,bsize): line+=\"║ \"\n",
        "      line += str(p)+\" \"\n",
        "      if j == size: line+=\"║ \"\n",
        "    print(line)\n",
        "  print(bl+(bsize-1)*(pgaris+bm)+(pgaris+br))\n",
        "else:\n",
        "    print(\"Optimal Solution could not be found.\")"
      ],
      "metadata": {
        "colab": {
          "base_uri": "https://localhost:8080/"
        },
        "id": "y5fq_gVZ1Gkh",
        "outputId": "97fbad75-91cc-4dd3-8068-bdff8c12210e"
      },
      "execution_count": null,
      "outputs": [
        {
          "output_type": "stream",
          "name": "stdout",
          "text": [
            "╔═══════╦═══════╦═══════╗\n",
            "║ 2 5 4 ║ 1 9 7 ║ 6 8 3 ║ \n",
            "║ 7 8 1 ║ 3 5 6 ║ 4 2 9 ║ \n",
            "║ 6 9 3 ║ 8 2 4 ║ 5 1 7 ║ \n",
            "╠═══════╬═══════╬═══════╣\n",
            "║ 1 2 8 ║ 4 7 3 ║ 9 5 6 ║ \n",
            "║ 4 3 9 ║ 2 6 5 ║ 1 7 8 ║ \n",
            "║ 5 6 7 ║ 9 8 1 ║ 3 4 2 ║ \n",
            "╠═══════╬═══════╬═══════╣\n",
            "║ 9 7 6 ║ 5 1 2 ║ 8 3 4 ║ \n",
            "║ 3 1 2 ║ 6 4 8 ║ 7 9 5 ║ \n",
            "║ 8 4 5 ║ 7 3 9 ║ 2 6 1 ║ \n",
            "╚═══════╩═══════╩═══════╝\n"
          ]
        }
      ]
    },
    {
      "cell_type": "markdown",
      "source": [
        "Hypersudoku\n"
      ],
      "metadata": {
        "id": "TeepQm1T1TUf"
      }
    },
    {
      "cell_type": "code",
      "source": [
        "grid = [[0,0,0, 0,0,0, 0,0,0],\n",
        "        [0,0,0, 0,0,0, 0,0,0],\n",
        "        [0,0,0, 0,0,0, 0,0,0],\n",
        "\n",
        "        [0,0,0, 0,0,0, 0,0,0],\n",
        "        [0,0,0, 0,0,0, 0,0,0],\n",
        "        [0,0,0, 0,0,0, 0,0,0],\n",
        "\n",
        "        [0,0,0, 0,0,0, 0,0,0],\n",
        "        [0,0,0, 0,0,0, 0,0,0],\n",
        "        [0,0,0, 0,0,0, 0,0,0]]"
      ],
      "metadata": {
        "id": "a2yts4N61oXw"
      },
      "execution_count": null,
      "outputs": []
    },
    {
      "cell_type": "code",
      "source": [
        "size=len(grid)\n",
        "bsize=int(math.sqrt(len(grid)))\n",
        "index_list=[]\n",
        "for i in range(1,size+1):\n",
        "    list = []\n",
        "    for j in range(1,size+1):\n",
        "        index = (i,j)\n",
        "        list.append(index)\n",
        "    index_list.append(list)\n",
        "box_list=[]\n",
        "for i in range(0,bsize):\n",
        "    for j in range(0,bsize):\n",
        "        box = [index_list[bsize*i+p][bsize*j+q] for p in range(0,bsize) for q in range(0,bsize)]\n",
        "        box_list.append(box)\n",
        "ebox_list=[]\n",
        "for i in range(0,2):\n",
        "    for j in range(0,2):\n",
        "        ebox = [index_list[4*i+p+1][4*j+q+1] for p in range(0,3) for q in range(0,3)]\n",
        "        ebox_list.append(ebox)\n",
        "\n",
        "lp = LpProblem(\"Sudoku LP\",LpMinimize)\n",
        "rows = range(1,size+1)\n",
        "cols = range(1,size+1)\n",
        "nums = range(1,size+1)\n",
        "\n",
        "x_ijk = LpVariable.dicts(\"x\",(rows,cols,nums),0,1,LpInteger)\n",
        "obj= lpSum(x_ijk[i][j][k] for i in rows for j in cols for k in nums)\n",
        "lp += obj, \"Objective Function\"\n",
        "\n",
        "for j in cols:\n",
        "    for k in nums:\n",
        "        lp += lpSum([x_ijk[i][j][k] for i in rows]) == 1,\"\"\n",
        "for i in rows:\n",
        "    for k in nums:\n",
        "        lp += lpSum([x_ijk[i][j][k] for j in cols]) == 1,\"\"\n",
        "for i in rows:\n",
        "    for j in cols:\n",
        "        lp += lpSum([x_ijk[i][j][k] for k in nums]) == 1,\"\"\n",
        "for k in nums:\n",
        "    for box in box_list:\n",
        "        lp += lpSum([x_ijk[i][j][k] for (i,j) in box]) == 1,\"\"\n",
        "for i in range(len(grid)):\n",
        "    for j in range(len(grid)):\n",
        "        if grid[i][j]==0:\n",
        "          continue\n",
        "        else:\n",
        "          lp += x_ijk[i+1][j+1][grid[i][j]] == 1,\"\"\n",
        "\n",
        "#Kendala hypersudoku\n",
        "for k in nums:\n",
        "    for ebox in ebox_list:\n",
        "        lp += lpSum([x_ijk[i][j][k] for (i,j) in ebox]) == 1,\"\"\n",
        "lp.solve()\n",
        "status = str(LpStatus[lp.status])"
      ],
      "metadata": {
        "id": "QhnI7IES1bp1"
      },
      "execution_count": null,
      "outputs": []
    },
    {
      "cell_type": "code",
      "source": [
        "if status == \"Optimal\":\n",
        "  for i in range(len(grid)):\n",
        "    for j in range(len(grid)):\n",
        "      for k in range(len(grid)):\n",
        "        if x_ijk[i+1][j+1][k+1].varValue==1:\n",
        "          grid[i][j] = nums[k]\n",
        "        else:\n",
        "          continue\n",
        "  for i in rows:\n",
        "    line=\"\"\n",
        "    if i==1: print(al+(bsize-1)*(pgaris+am)+(pgaris+ar))\n",
        "    elif i in range(1+bsize,size,bsize): print(ml+(bsize-1)*(pgaris+mm)+(pgaris+mr))\n",
        "    for j in cols:\n",
        "      p = grid[i-1][j-1]\n",
        "      if j in range(1,size,bsize): line+=\"║ \"\n",
        "      line += str(p)+\" \"\n",
        "      if j == size: line+=\"║ \"\n",
        "    print(line)\n",
        "  print(bl+(bsize-1)*(pgaris+bm)+(pgaris+br))\n",
        "else:\n",
        "    print(\"Optimal Solution could not be found.\")"
      ],
      "metadata": {
        "colab": {
          "base_uri": "https://localhost:8080/"
        },
        "id": "ayObrkPx1Um2",
        "outputId": "a100b243-59c4-4918-b1f3-61a610241daf"
      },
      "execution_count": null,
      "outputs": [
        {
          "output_type": "stream",
          "name": "stdout",
          "text": [
            "╔═══════╦═══════╦═══════╗\n",
            "║ 2 8 3 ║ 7 5 9 ║ 4 1 6 ║ \n",
            "║ 7 5 1 ║ 3 4 6 ║ 8 2 9 ║ \n",
            "║ 6 9 4 ║ 8 2 1 ║ 7 3 5 ║ \n",
            "╠═══════╬═══════╬═══════╣\n",
            "║ 3 7 6 ║ 2 8 4 ║ 9 5 1 ║ \n",
            "║ 1 2 9 ║ 6 7 5 ║ 3 8 4 ║ \n",
            "║ 5 4 8 ║ 9 1 3 ║ 6 7 2 ║ \n",
            "╠═══════╬═══════╬═══════╣\n",
            "║ 9 3 7 ║ 5 6 2 ║ 1 4 8 ║ \n",
            "║ 4 6 2 ║ 1 3 8 ║ 5 9 7 ║ \n",
            "║ 8 1 5 ║ 4 9 7 ║ 2 6 3 ║ \n",
            "╚═══════╩═══════╩═══════╝\n"
          ]
        }
      ]
    }
  ]
}