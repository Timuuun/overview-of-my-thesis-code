{
  "nbformat": 4,
  "nbformat_minor": 0,
  "metadata": {
    "colab": {
      "provenance": [],
      "authorship_tag": "ABX9TyPFUfEmKLG/+9VIY/NLYlO7"
    },
    "kernelspec": {
      "name": "python3",
      "display_name": "Python 3"
    },
    "language_info": {
      "name": "python"
    }
  },
  "cells": [
    {
      "cell_type": "code",
      "source": [
        "pip install pulp"
      ],
      "metadata": {
        "colab": {
          "base_uri": "https://localhost:8080/"
        },
        "id": "EvFQtZ6XyYhl",
        "outputId": "f00eac9e-55bc-4fa8-ab6e-01526b9ea5be"
      },
      "execution_count": 1,
      "outputs": [
        {
          "output_type": "stream",
          "name": "stdout",
          "text": [
            "Collecting pulp\n",
            "  Downloading PuLP-2.9.0-py3-none-any.whl (17.7 MB)\n",
            "\u001b[2K     \u001b[90m━━━━━━━━━━━━━━━━━━━━━━━━━━━━━━━━━━━━━━━━\u001b[0m \u001b[32m17.7/17.7 MB\u001b[0m \u001b[31m14.1 MB/s\u001b[0m eta \u001b[36m0:00:00\u001b[0m\n",
            "\u001b[?25hInstalling collected packages: pulp\n",
            "Successfully installed pulp-2.9.0\n"
          ]
        }
      ]
    },
    {
      "cell_type": "code",
      "source": [
        "from pulp import *\n",
        "import math\n",
        "import copy\n",
        "import random"
      ],
      "metadata": {
        "id": "HoHNvt7yyYKp"
      },
      "execution_count": 2,
      "outputs": []
    },
    {
      "cell_type": "code",
      "execution_count": 3,
      "metadata": {
        "id": "d1ZZZYA-yQ65"
      },
      "outputs": [],
      "source": [
        "def Solution(grid):\n",
        "  size=len(grid)\n",
        "  bsize=int(math.sqrt(len(grid)))\n",
        "  index_list=[]\n",
        "  for i in range(1,size+1):\n",
        "      list = []\n",
        "      for j in range(1,size+1):\n",
        "          index = (i,j)\n",
        "          list.append(index)\n",
        "      index_list.append(list)\n",
        "  box_list=[]\n",
        "  for i in range(0,bsize):\n",
        "      for j in range(0,bsize):\n",
        "          box = [index_list[bsize*i+p][bsize*j+q] for p in range(0,bsize) for q in range(0,bsize)]\n",
        "          box_list.append(box)\n",
        "\n",
        "  lp = LpProblem(\"Sudoku LP\",LpMinimize)\n",
        "  rows = range(1,size+1)\n",
        "  cols = range(1,size+1)\n",
        "  nums = range(1,size+1)\n",
        "\n",
        "  x_ijk = LpVariable.dicts(\"x\",(rows,cols,nums),0,1,LpContinuous)\n",
        "  obj= lpSum(x_ijk[i][j][k] for i in rows for j in cols for k in nums)\n",
        "  lp += obj, \"Objective Function\"\n",
        "\n",
        "  for j in cols:\n",
        "      for k in nums:\n",
        "          lp += lpSum([x_ijk[i][j][k] for i in rows]) == 1,\"\"\n",
        "  for i in rows:\n",
        "      for k in nums:\n",
        "          lp += lpSum([x_ijk[i][j][k] for j in cols]) == 1,\"\"\n",
        "  for i in rows:\n",
        "      for j in cols:\n",
        "          lp += lpSum([x_ijk[i][j][k] for k in nums]) == 1,\"\"\n",
        "  for k in nums:\n",
        "      for box in box_list:\n",
        "          lp += lpSum([x_ijk[i][j][k] for (i,j) in box]) == 1,\"\"\n",
        "  for i in range(len(grid)):\n",
        "      for j in range(len(grid)):\n",
        "          if grid[i][j]==0:\n",
        "            continue\n",
        "          else:\n",
        "            lp += x_ijk[i+1][j+1][grid[i][j]] == 1,\"\"\n",
        "  lp.solve()\n",
        "  al = \"╔\"; am = \"╦\"; ar = \"╗\"; g = \"═\"\n",
        "  ml = \"╠\"; mm = \"╬\"; mr = \"╣\"\n",
        "  bl = \"╚\"; bm = \"╩\"; br = \"╝\"\n",
        "  pgaris = (bsize*2+1)*g\n",
        "  for i in range(len(grid)):\n",
        "    for j in range(len(grid)):\n",
        "      for k in range(len(grid)):\n",
        "        if x_ijk[i+1][j+1][k+1].varValue==1:\n",
        "          grid[i][j] = nums[k]\n",
        "        else:\n",
        "          continue\n",
        "  for i in rows:\n",
        "    line=\"\"\n",
        "    if i==1: print(al+(bsize-1)*(pgaris+am)+(pgaris+ar))\n",
        "    elif i in range(1+bsize,size,bsize): print(ml+(bsize-1)*(pgaris+mm)+(pgaris+mr))\n",
        "    for j in cols:\n",
        "      p = grid[i-1][j-1]\n",
        "      if j in range(1,size,bsize): line+=\"║ \"\n",
        "      line += str(p)+\" \"\n",
        "      if j == size: line+=\"║ \"\n",
        "    print(line)\n",
        "  print(bl+(bsize-1)*(pgaris+bm)+(pgaris+br))"
      ]
    },
    {
      "cell_type": "code",
      "source": [
        "grid = [[0,0,8, 0,6,2, 0,0,0],\n",
        "        [0,3,0, 8,4,0, 9,0,2],\n",
        "        [9,0,6, 0,0,0, 0,1,4],\n",
        "\n",
        "        [0,1,2, 0,0,8, 6,0,0],\n",
        "        [3,0,0, 0,7,9, 0,2,0],\n",
        "        [0,6,0, 1,0,0, 0,3,7],\n",
        "\n",
        "        [0,0,1, 7,8,0, 3,0,0],\n",
        "        [6,8,5, 2,0,0, 7,4,0],\n",
        "        [4,0,0, 0,9,6, 0,0,1]]"
      ],
      "metadata": {
        "id": "ugbGmED5yUsc"
      },
      "execution_count": 4,
      "outputs": []
    },
    {
      "cell_type": "code",
      "source": [
        "Solution(grid)"
      ],
      "metadata": {
        "colab": {
          "base_uri": "https://localhost:8080/"
        },
        "id": "fp8LrHPFyVvZ",
        "outputId": "01e750aa-880a-4909-d0e6-46c5c989b8bf"
      },
      "execution_count": 5,
      "outputs": [
        {
          "output_type": "stream",
          "name": "stdout",
          "text": [
            "╔═══════╦═══════╦═══════╗\n",
            "║ 1 4 8 ║ 9 6 2 ║ 5 7 3 ║ \n",
            "║ 5 3 7 ║ 8 4 1 ║ 9 6 2 ║ \n",
            "║ 9 2 6 ║ 3 5 7 ║ 8 1 4 ║ \n",
            "╠═══════╬═══════╬═══════╣\n",
            "║ 7 1 2 ║ 4 3 8 ║ 6 9 5 ║ \n",
            "║ 3 5 4 ║ 6 7 9 ║ 1 2 8 ║ \n",
            "║ 8 6 9 ║ 1 2 5 ║ 4 3 7 ║ \n",
            "╠═══════╬═══════╬═══════╣\n",
            "║ 2 9 1 ║ 7 8 4 ║ 3 5 6 ║ \n",
            "║ 6 8 5 ║ 2 1 3 ║ 7 4 9 ║ \n",
            "║ 4 7 3 ║ 5 9 6 ║ 2 8 1 ║ \n",
            "╚═══════╩═══════╩═══════╝\n"
          ]
        },
        {
          "output_type": "stream",
          "name": "stderr",
          "text": [
            "/usr/local/lib/python3.10/dist-packages/pulp/pulp.py:1298: UserWarning: Spaces are not permitted in the name. Converted to '_'\n",
            "  warnings.warn(\"Spaces are not permitted in the name. Converted to '_'\")\n"
          ]
        }
      ]
    }
  ]
}